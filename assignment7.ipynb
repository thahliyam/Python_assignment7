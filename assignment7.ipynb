{
 "cells": [
  {
   "cell_type": "code",
   "execution_count": 1,
   "id": "332e0f10-ab53-4453-8c00-48894e22fdec",
   "metadata": {},
   "outputs": [
    {
     "name": "stdout",
     "output_type": "stream",
     "text": [
      "Requirement already satisfied: numpy in c:\\users\\user\\onedrive\\applications\\lib\\site-packages (1.26.4)\n",
      "Note: you may need to restart the kernel to use updated packages.\n"
     ]
    }
   ],
   "source": [
    "pip install numpy\n"
   ]
  },
  {
   "cell_type": "markdown",
   "id": "fb35afaf-7f98-4105-b21a-7fc87c2f8e06",
   "metadata": {},
   "source": [
    "# 1 Create a numpy array containing the numbers from 1 to 10, and then reshape it to a 2x5 matrix.\n"
   ]
  },
  {
   "cell_type": "code",
   "execution_count": 19,
   "id": "245cfcf9-2b82-4c74-b1ac-c90a55556fc8",
   "metadata": {},
   "outputs": [
    {
     "name": "stdout",
     "output_type": "stream",
     "text": [
      "[ 1  2  3  4  5  6  7  8  9 10]\n",
      "[[ 1  2  3  4  5]\n",
      " [ 6  7  8  9 10]]\n",
      "(2, 5)\n"
     ]
    }
   ],
   "source": [
    "import numpy as np\n",
    "a1=np.array([1,2,3,4,5,6,7,8,9,10])\n",
    "print(a1)\n",
    "new_array=a1.reshape(2,5)                  \n",
    "print(new_array)\n",
    "print(new_array.shape)"
   ]
  },
  {
   "cell_type": "markdown",
   "id": "e816315a-a381-4302-9956-56b1a736cfe1",
   "metadata": {},
   "source": [
    "# 2 Create a numpy array containing the numbers from 1 to 20, and then extract the elements between the 5th and 15th index.\n"
   ]
  },
  {
   "cell_type": "code",
   "execution_count": 21,
   "id": "e1a74054-7a13-4cfc-8584-171285c689ab",
   "metadata": {},
   "outputs": [
    {
     "data": {
      "text/plain": [
       "(array([ 1,  2,  3,  4,  5,  6,  7,  8,  9, 10, 11, 12, 13, 14, 15, 16, 17,\n",
       "        18, 19, 20]),\n",
       " array([ 6,  7,  8,  9, 10, 11, 12, 13, 14, 15]))"
      ]
     },
     "execution_count": 21,
     "metadata": {},
     "output_type": "execute_result"
    }
   ],
   "source": [
    "array = np.arange(1, 21)\n",
    "array\n",
    "extracted_elements = array[5:15]\n",
    "array, extracted_elements"
   ]
  },
  {
   "cell_type": "markdown",
   "id": "cf2a7c38-c3ed-49b1-9ce3-36dc887ff970",
   "metadata": {},
   "source": [
    "# 3 Create a Pandas series with the following data: {'apples': 3, 'bananas': 2, 'oranges': 1}. Then, add a new item to the \n",
    "# series with the key 'pears' and the value 4.\n"
   ]
  },
  {
   "cell_type": "code",
   "execution_count": 23,
   "id": "096df039-c614-4bf3-a342-60f20995e6f5",
   "metadata": {},
   "outputs": [
    {
     "name": "stdout",
     "output_type": "stream",
     "text": [
      "apples     3\n",
      "bananas    2\n",
      "oranges    1\n",
      "dtype: int64\n"
     ]
    },
    {
     "data": {
      "text/plain": [
       "apples     3\n",
       "bananas    2\n",
       "oranges    1\n",
       "pears      4\n",
       "dtype: int64"
      ]
     },
     "execution_count": 23,
     "metadata": {},
     "output_type": "execute_result"
    }
   ],
   "source": [
    "import pandas as pd\n",
    "fruits = pd.Series({'apples': 3, 'bananas': 2, 'oranges': 1})\n",
    "print(fruits)\n",
    "# Adding a new item 'pears' with the value 4\n",
    "fruits['pears'] = 4\n",
    "fruits"
   ]
  },
  {
   "cell_type": "markdown",
   "id": "b5f85e3c-591d-48c9-9d48-758b63162c1f",
   "metadata": {},
   "source": [
    "# 4 Create a dataframe with the following columns: name, age, and gender. The dataframe should have 10 rows of data. \n"
   ]
  },
  {
   "cell_type": "code",
   "execution_count": 11,
   "id": "8a0a8537-e0d6-4808-a39e-f7130e4cca16",
   "metadata": {},
   "outputs": [
    {
     "data": {
      "text/html": [
       "<div>\n",
       "<style scoped>\n",
       "    .dataframe tbody tr th:only-of-type {\n",
       "        vertical-align: middle;\n",
       "    }\n",
       "\n",
       "    .dataframe tbody tr th {\n",
       "        vertical-align: top;\n",
       "    }\n",
       "\n",
       "    .dataframe thead th {\n",
       "        text-align: right;\n",
       "    }\n",
       "</style>\n",
       "<table border=\"1\" class=\"dataframe\">\n",
       "  <thead>\n",
       "    <tr style=\"text-align: right;\">\n",
       "      <th></th>\n",
       "      <th>name</th>\n",
       "      <th>age</th>\n",
       "      <th>gender</th>\n",
       "    </tr>\n",
       "  </thead>\n",
       "  <tbody>\n",
       "    <tr>\n",
       "      <th>1</th>\n",
       "      <td>Shari</td>\n",
       "      <td>26</td>\n",
       "      <td>female</td>\n",
       "    </tr>\n",
       "    <tr>\n",
       "      <th>2</th>\n",
       "      <td>Fathima</td>\n",
       "      <td>25</td>\n",
       "      <td>female</td>\n",
       "    </tr>\n",
       "    <tr>\n",
       "      <th>3</th>\n",
       "      <td>sruthi</td>\n",
       "      <td>24</td>\n",
       "      <td>female</td>\n",
       "    </tr>\n",
       "    <tr>\n",
       "      <th>4</th>\n",
       "      <td>rekha</td>\n",
       "      <td>30</td>\n",
       "      <td>female</td>\n",
       "    </tr>\n",
       "    <tr>\n",
       "      <th>5</th>\n",
       "      <td>afsal</td>\n",
       "      <td>45</td>\n",
       "      <td>male</td>\n",
       "    </tr>\n",
       "    <tr>\n",
       "      <th>6</th>\n",
       "      <td>sabith</td>\n",
       "      <td>25</td>\n",
       "      <td>male</td>\n",
       "    </tr>\n",
       "    <tr>\n",
       "      <th>7</th>\n",
       "      <td>jennifer</td>\n",
       "      <td>35</td>\n",
       "      <td>female</td>\n",
       "    </tr>\n",
       "    <tr>\n",
       "      <th>8</th>\n",
       "      <td>akash</td>\n",
       "      <td>25</td>\n",
       "      <td>male</td>\n",
       "    </tr>\n",
       "    <tr>\n",
       "      <th>9</th>\n",
       "      <td>karun</td>\n",
       "      <td>24</td>\n",
       "      <td>male</td>\n",
       "    </tr>\n",
       "    <tr>\n",
       "      <th>10</th>\n",
       "      <td>vidhya</td>\n",
       "      <td>29</td>\n",
       "      <td>female</td>\n",
       "    </tr>\n",
       "  </tbody>\n",
       "</table>\n",
       "</div>"
      ],
      "text/plain": [
       "        name  age  gender\n",
       "1      Shari   26  female\n",
       "2    Fathima   25  female\n",
       "3     sruthi   24  female\n",
       "4      rekha   30  female\n",
       "5      afsal   45    male\n",
       "6     sabith   25    male\n",
       "7   jennifer   35  female\n",
       "8      akash   25    male\n",
       "9      karun   24    male\n",
       "10    vidhya   29  female"
      ]
     },
     "execution_count": 11,
     "metadata": {},
     "output_type": "execute_result"
    }
   ],
   "source": [
    "import pandas as pd\n",
    "import numpy as np\n",
    "details= pd.DataFrame({\n",
    "    'name': [\"Shari\",\"Fathima\",\"sruthi\",\"rekha\",\"afsal\",\"sabith\",\"jennifer\",\"akash\",\"karun\",\"vidhya\"],\n",
    "    'age': [26,25,24,30,45,25,35,25,24,29],\n",
    "    'gender':[\"female\",\"female\",\"female\",\"female\",\"male\",\"male\",\"female\",\"male\",\"male\",\"female\"]\n",
    "    },columns=['name','age','gender'])\n",
    "\n",
    "details.index=[1,2,3,4,5,6,7,8,9,10]\n",
    "details"
   ]
  },
  {
   "cell_type": "markdown",
   "id": "64e961af-6cb5-4d28-8bf8-b8f608863212",
   "metadata": {},
   "source": [
    "# 5 Add a new column to the data frame created in question 1, called occupation. The values for this column should be Programmer, \n",
    "# Manager, and Analyst, corresponding to the rows in the dataframe. \n"
   ]
  },
  {
   "cell_type": "code",
   "execution_count": 25,
   "id": "2b75a952-36d4-4dc2-b65e-41b13cc88833",
   "metadata": {},
   "outputs": [
    {
     "data": {
      "text/html": [
       "<div>\n",
       "<style scoped>\n",
       "    .dataframe tbody tr th:only-of-type {\n",
       "        vertical-align: middle;\n",
       "    }\n",
       "\n",
       "    .dataframe tbody tr th {\n",
       "        vertical-align: top;\n",
       "    }\n",
       "\n",
       "    .dataframe thead th {\n",
       "        text-align: right;\n",
       "    }\n",
       "</style>\n",
       "<table border=\"1\" class=\"dataframe\">\n",
       "  <thead>\n",
       "    <tr style=\"text-align: right;\">\n",
       "      <th></th>\n",
       "      <th>name</th>\n",
       "      <th>age</th>\n",
       "      <th>gender</th>\n",
       "      <th>Occupation</th>\n",
       "    </tr>\n",
       "  </thead>\n",
       "  <tbody>\n",
       "    <tr>\n",
       "      <th>1</th>\n",
       "      <td>Shari</td>\n",
       "      <td>26</td>\n",
       "      <td>female</td>\n",
       "      <td>Programmer</td>\n",
       "    </tr>\n",
       "    <tr>\n",
       "      <th>2</th>\n",
       "      <td>Fathima</td>\n",
       "      <td>25</td>\n",
       "      <td>female</td>\n",
       "      <td>Manager</td>\n",
       "    </tr>\n",
       "    <tr>\n",
       "      <th>3</th>\n",
       "      <td>sruthi</td>\n",
       "      <td>24</td>\n",
       "      <td>female</td>\n",
       "      <td>Analyst</td>\n",
       "    </tr>\n",
       "    <tr>\n",
       "      <th>4</th>\n",
       "      <td>rekha</td>\n",
       "      <td>30</td>\n",
       "      <td>female</td>\n",
       "      <td>Developer</td>\n",
       "    </tr>\n",
       "    <tr>\n",
       "      <th>5</th>\n",
       "      <td>afsal</td>\n",
       "      <td>45</td>\n",
       "      <td>male</td>\n",
       "      <td>Senior analyst</td>\n",
       "    </tr>\n",
       "    <tr>\n",
       "      <th>6</th>\n",
       "      <td>sabith</td>\n",
       "      <td>25</td>\n",
       "      <td>male</td>\n",
       "      <td>Marketing manager</td>\n",
       "    </tr>\n",
       "    <tr>\n",
       "      <th>7</th>\n",
       "      <td>jennifer</td>\n",
       "      <td>35</td>\n",
       "      <td>female</td>\n",
       "      <td>Junior developer</td>\n",
       "    </tr>\n",
       "    <tr>\n",
       "      <th>8</th>\n",
       "      <td>akash</td>\n",
       "      <td>25</td>\n",
       "      <td>male</td>\n",
       "      <td>Programmer</td>\n",
       "    </tr>\n",
       "    <tr>\n",
       "      <th>9</th>\n",
       "      <td>karun</td>\n",
       "      <td>24</td>\n",
       "      <td>male</td>\n",
       "      <td>System analyst</td>\n",
       "    </tr>\n",
       "    <tr>\n",
       "      <th>10</th>\n",
       "      <td>vidhya</td>\n",
       "      <td>29</td>\n",
       "      <td>female</td>\n",
       "      <td>Business analyst</td>\n",
       "    </tr>\n",
       "  </tbody>\n",
       "</table>\n",
       "</div>"
      ],
      "text/plain": [
       "        name  age  gender         Occupation\n",
       "1      Shari   26  female         Programmer\n",
       "2    Fathima   25  female            Manager\n",
       "3     sruthi   24  female            Analyst\n",
       "4      rekha   30  female          Developer\n",
       "5      afsal   45    male     Senior analyst\n",
       "6     sabith   25    male  Marketing manager\n",
       "7   jennifer   35  female   Junior developer\n",
       "8      akash   25    male         Programmer\n",
       "9      karun   24    male     System analyst\n",
       "10    vidhya   29  female   Business analyst"
      ]
     },
     "execution_count": 25,
     "metadata": {},
     "output_type": "execute_result"
    }
   ],
   "source": [
    "details[\"Occupation\"] = [\"Programmer\", \"Manager\", \"Analyst\",\"Developer\",\"Senior analyst\",\n",
    "                         \"Marketing manager\",\"Junior developer\",\"Programmer\",\"System analyst\",\"Business analyst\"]\n",
    "details"
   ]
  },
  {
   "cell_type": "markdown",
   "id": "c9ca0226-1666-4e19-a416-70bcff746b99",
   "metadata": {},
   "source": [
    "# 6 Select the rows of the dataframe where the age is greater than or equal to 30. \n"
   ]
  },
  {
   "cell_type": "code",
   "execution_count": 27,
   "id": "3c23d636-b979-445f-bd6a-69570bf0891f",
   "metadata": {},
   "outputs": [
    {
     "data": {
      "text/plain": [
       "1     False\n",
       "2     False\n",
       "3     False\n",
       "4      True\n",
       "5      True\n",
       "6     False\n",
       "7      True\n",
       "8     False\n",
       "9     False\n",
       "10    False\n",
       "Name: age, dtype: bool"
      ]
     },
     "execution_count": 27,
     "metadata": {},
     "output_type": "execute_result"
    }
   ],
   "source": [
    "details[\"age\"]>=30"
   ]
  },
  {
   "cell_type": "markdown",
   "id": "b24cb016-760d-4f7a-ad2c-ec49a3bf10da",
   "metadata": {},
   "source": [
    "# 7 Convert this dataframe to a csv file and read that csv file, finally display the contents."
   ]
  },
  {
   "cell_type": "code",
   "execution_count": 13,
   "id": "7ff536aa-3999-4161-afc4-9b6ca34563f8",
   "metadata": {},
   "outputs": [],
   "source": [
    "details.to_csv(\"final_details.csv\")\n",
    "\n",
    "data=pd.read_csv(\"final_details.csv\")"
   ]
  },
  {
   "cell_type": "code",
   "execution_count": 16,
   "id": "46b39dad-0450-4c73-b861-4b8f717b0971",
   "metadata": {},
   "outputs": [
    {
     "data": {
      "text/html": [
       "<div>\n",
       "<style scoped>\n",
       "    .dataframe tbody tr th:only-of-type {\n",
       "        vertical-align: middle;\n",
       "    }\n",
       "\n",
       "    .dataframe tbody tr th {\n",
       "        vertical-align: top;\n",
       "    }\n",
       "\n",
       "    .dataframe thead th {\n",
       "        text-align: right;\n",
       "    }\n",
       "</style>\n",
       "<table border=\"1\" class=\"dataframe\">\n",
       "  <thead>\n",
       "    <tr style=\"text-align: right;\">\n",
       "      <th></th>\n",
       "      <th>name</th>\n",
       "      <th>age</th>\n",
       "      <th>gender</th>\n",
       "    </tr>\n",
       "  </thead>\n",
       "  <tbody>\n",
       "    <tr>\n",
       "      <th>1</th>\n",
       "      <td>Shari</td>\n",
       "      <td>26</td>\n",
       "      <td>female</td>\n",
       "    </tr>\n",
       "    <tr>\n",
       "      <th>2</th>\n",
       "      <td>Fathima</td>\n",
       "      <td>25</td>\n",
       "      <td>female</td>\n",
       "    </tr>\n",
       "    <tr>\n",
       "      <th>3</th>\n",
       "      <td>sruthi</td>\n",
       "      <td>24</td>\n",
       "      <td>female</td>\n",
       "    </tr>\n",
       "    <tr>\n",
       "      <th>4</th>\n",
       "      <td>rekha</td>\n",
       "      <td>30</td>\n",
       "      <td>female</td>\n",
       "    </tr>\n",
       "    <tr>\n",
       "      <th>5</th>\n",
       "      <td>afsal</td>\n",
       "      <td>45</td>\n",
       "      <td>male</td>\n",
       "    </tr>\n",
       "    <tr>\n",
       "      <th>6</th>\n",
       "      <td>sabith</td>\n",
       "      <td>25</td>\n",
       "      <td>male</td>\n",
       "    </tr>\n",
       "    <tr>\n",
       "      <th>7</th>\n",
       "      <td>jennifer</td>\n",
       "      <td>35</td>\n",
       "      <td>female</td>\n",
       "    </tr>\n",
       "    <tr>\n",
       "      <th>8</th>\n",
       "      <td>akash</td>\n",
       "      <td>25</td>\n",
       "      <td>male</td>\n",
       "    </tr>\n",
       "    <tr>\n",
       "      <th>9</th>\n",
       "      <td>karun</td>\n",
       "      <td>24</td>\n",
       "      <td>male</td>\n",
       "    </tr>\n",
       "    <tr>\n",
       "      <th>10</th>\n",
       "      <td>vidhya</td>\n",
       "      <td>29</td>\n",
       "      <td>female</td>\n",
       "    </tr>\n",
       "  </tbody>\n",
       "</table>\n",
       "</div>"
      ],
      "text/plain": [
       "        name  age  gender\n",
       "1      Shari   26  female\n",
       "2    Fathima   25  female\n",
       "3     sruthi   24  female\n",
       "4      rekha   30  female\n",
       "5      afsal   45    male\n",
       "6     sabith   25    male\n",
       "7   jennifer   35  female\n",
       "8      akash   25    male\n",
       "9      karun   24    male\n",
       "10    vidhya   29  female"
      ]
     },
     "execution_count": 16,
     "metadata": {},
     "output_type": "execute_result"
    }
   ],
   "source": [
    "details"
   ]
  },
  {
   "cell_type": "code",
   "execution_count": null,
   "id": "3bcd46d5-3542-47c5-bb85-514bc6c70405",
   "metadata": {},
   "outputs": [],
   "source": []
  },
  {
   "cell_type": "code",
   "execution_count": null,
   "id": "63f9fcf0-f564-4c0f-90e8-a963c95212c5",
   "metadata": {},
   "outputs": [],
   "source": []
  }
 ],
 "metadata": {
  "kernelspec": {
   "display_name": "Python 3 (ipykernel)",
   "language": "python",
   "name": "python3"
  },
  "language_info": {
   "codemirror_mode": {
    "name": "ipython",
    "version": 3
   },
   "file_extension": ".py",
   "mimetype": "text/x-python",
   "name": "python",
   "nbconvert_exporter": "python",
   "pygments_lexer": "ipython3",
   "version": "3.12.7"
  }
 },
 "nbformat": 4,
 "nbformat_minor": 5
}
